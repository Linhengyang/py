{
 "cells": [
  {
   "cell_type": "markdown",
   "id": "dab58979",
   "metadata": {},
   "source": [
    "## 解释 Interpretation / AOT编译 Ahead-of-Time / JIT编译 Just-in-Time(运行时编译)"
   ]
  },
  {
   "cell_type": "markdown",
   "id": "8a8ee844",
   "metadata": {
    "vscode": {
     "languageId": "plaintext"
    }
   },
   "source": [
    "### 解释 Interpretation"
   ]
  },
  {
   "cell_type": "code",
   "execution_count": null,
   "id": "cdf77343",
   "metadata": {
    "vscode": {
     "languageId": "plaintext"
    }
   },
   "outputs": [],
   "source": [
    "1. 工作原理:\n",
    "解释器直接读取程序的源代码（或一种中间标识 Intermediate Representation IR，比如字节码），然后逐条指令地进行转换和执行。不生成独立的可执行的机器码文件。每次程序执行都需要解释器。"
   ]
  },
  {
   "cell_type": "code",
   "execution_count": null,
   "id": "24799185",
   "metadata": {
    "vscode": {
     "languageId": "plaintext"
    }
   },
   "outputs": [],
   "source": [
    "2. 适用范围\n",
    "用于高度动态性的编程场景，连程序员自己都不知道程序要如何编写的探索性工作，比如数据科学、原型开发和快速迭代、交互式环境等。"
   ]
  },
  {
   "cell_type": "code",
   "execution_count": null,
   "id": "19e01dff",
   "metadata": {
    "vscode": {
     "languageId": "plaintext"
    }
   },
   "outputs": [],
   "source": [
    "3. 典型语言\n",
    "脚本语言为主，比如 Python(CPython), Ruby, Perl, PHP, JavaScript(早期)等"
   ]
  },
  {
   "cell_type": "code",
   "execution_count": null,
   "id": "1986747b",
   "metadata": {
    "vscode": {
     "languageId": "plaintext"
    }
   },
   "outputs": [],
   "source": [
    "4. 优点和缺点\n",
    "优点：开发效率高，无需编译，修改代码后可立即运行，加快迭代；跨平台性好，源代码可以在任何支持解释器的系统上运行；调试方便；动态性强\n",
    "缺点：执行效率低，每次运行都需要解释器介入，重复代码需要重复解释；启动速度慢，每次运行都要从头解释"
   ]
  },
  {
   "cell_type": "markdown",
   "id": "8fa52c8a",
   "metadata": {},
   "source": [
    "#### Python\n",
    "Python是典型的解释型语言。Python Interpreter解释的不是Python源代码，而是字节码：Python会先把源代码初步“翻译”成字节码（经过语法分析、词法分析等初步优化），然后解释器逐行解释字节码。\n",
    "前半步“翻译”就是 compile 函数的作用: --> bytecode存储在内存中。如果是python import的 module，会缓存成 pyc 文件"
   ]
  },
  {
   "cell_type": "markdown",
   "id": "5530994e",
   "metadata": {
    "vscode": {
     "languageId": "plaintext"
    }
   },
   "source": [
    "### AOT编译 Ahead-of-Time"
   ]
  },
  {
   "cell_type": "code",
   "execution_count": null,
   "id": "2e969118",
   "metadata": {
    "vscode": {
     "languageId": "plaintext"
    }
   },
   "outputs": [],
   "source": [
    "1. 工作原理:\n",
    "AOT编译器在程序运行之前，将源代码完整地编译成特定平台（cpu/os）的机器码，生成一个独立的可执行的二进制文件。这个二进制文件可以直接运行，不需要源代码和编译器"
   ]
  },
  {
   "cell_type": "code",
   "execution_count": null,
   "id": "e71b7e67",
   "metadata": {
    "vscode": {
     "languageId": "plaintext"
    }
   },
   "outputs": [],
   "source": [
    "2. 适用范围\n",
    "用于动态性低的编程场景，程序员相当了解程序的预期运行路径。编译器可以在执行程序之前，通过对代码的全局完整访问，进行静态优化。比如游戏引擎、操作系统等。"
   ]
  },
  {
   "cell_type": "code",
   "execution_count": null,
   "id": "92c23706",
   "metadata": {
    "vscode": {
     "languageId": "plaintext"
    }
   },
   "outputs": [],
   "source": [
    "3. 典型语言\n",
    "静态、系统级语言为主，比如 C, C++, Rust等。一般一定是强类型的，方便编译器优化。"
   ]
  },
  {
   "cell_type": "code",
   "execution_count": null,
   "id": "61f7bd56",
   "metadata": {
    "vscode": {
     "languageId": "plaintext"
    }
   },
   "outputs": [],
   "source": [
    "4. 优点和缺点\n",
    "优点：执行效率高，直接运行机器码；启动速度快，内存占用低（运行时没有编译器/解释器的额外开销）；分发方便（无需依赖源代码或运行时环境）\n",
    "缺点：开发周期长，每次修改代码后都要重新编译；跨平台性差；缺乏动态性，难以支持运行时代码生成和修改"
   ]
  },
  {
   "cell_type": "markdown",
   "id": "0682c073",
   "metadata": {
    "vscode": {
     "languageId": "plaintext"
    }
   },
   "source": [
    "### JIT编译 Just-in-Time"
   ]
  },
  {
   "cell_type": "code",
   "execution_count": null,
   "id": "aaa6a182",
   "metadata": {
    "vscode": {
     "languageId": "plaintext"
    }
   },
   "outputs": [],
   "source": [
    "1. 工作原理:\n",
    "JIT编译是解释运行和AOT编译的混合：它面向长时间运行、频繁调用、大比例重复执行代码的程序。\n",
    "通常以解释模式（或字节码执行）开始i运行，但在运行过程中，JIT编译器识别出热点代码 HotPot，然后针对性地将这些热点代码 HotPot 作针对性的、动态的编译（动态是指可能会变、会重新编译），\n",
    "生成机器码并缓存起来，下次再执行 HotPot 时，就直接运行机器码。所以也被称为 运行时编译 runtime compile。"
   ]
  },
  {
   "cell_type": "code",
   "execution_count": null,
   "id": "fb0ea173",
   "metadata": {
    "vscode": {
     "languageId": "plaintext"
    }
   },
   "outputs": [],
   "source": [
    "2. 适用范围\n",
    "用于动态性中等的编程场景，比如程序员比较了解程序的预期运行路径，但是并不确定输入input data的情况，而程序面对不同的input data输入，运行路径会出现冷热分布。此时JIT编译器会针对 HotPot，\n",
    "根据运行时的实际信息（和收集起来的历史执行情况），针对性动态优化 相关代码，生成 机器码到内存或缓存，下次相关代码在符合条件时，可直接调用机器码。"
   ]
  },
  {
   "cell_type": "code",
   "execution_count": null,
   "id": "f116feea",
   "metadata": {
    "vscode": {
     "languageId": "plaintext"
    }
   },
   "outputs": [],
   "source": [
    "3. 不适用范围\n",
    "通常情况下，如果程序只运行一遍且不包含任何重复执行的“热点”代码，JIT 的优势将非常有限，甚至可能带来负面影响。\n",
    "\n",
    "负面影响： JIT 编译器本身需要消耗 CPU 和内存资源来进行编译、剖析、维护守护。如果程序太短，或者代码只执行一次，那么这些 JIT 的开销可能比通过 JIT 优化所节省的时间还要多。\n",
    "AOT 编译的优势： 对于这种“只运行一次”的短程序，提前编译（AOT）通常是更好的选择。AOT 编译器在程序运行前就完成了所有优化，没有任何运行时开销，直接生成高效的机器码。"
   ]
  },
  {
   "cell_type": "code",
   "execution_count": null,
   "id": "626e3351",
   "metadata": {
    "vscode": {
     "languageId": "plaintext"
    }
   },
   "outputs": [],
   "source": [
    "4. 典型语言\n",
    "虚拟机语言： Java (JVM HotSpot), C# (.NET CLR)\n",
    "现代 Web 浏览器： JavaScript 引擎 (V8, SpiderMonkey)\n",
    "动态语言的高性能实现： PyPy (Python 的 JIT 实现)\n",
    "深度学习框架： PyTorch (torch.compile), TensorFlow (@tf.function)，用于优化长时间运行的训练和推理循环"
   ]
  },
  {
   "cell_type": "code",
   "execution_count": null,
   "id": "6e4043c3",
   "metadata": {
    "vscode": {
     "languageId": "plaintext"
    }
   },
   "outputs": [],
   "source": [
    "5. 对比解释和AOT\n",
    "对比解释运行：解释的灵活性更高，对动态控制流的支持性最棒：因为每次都是根据实际情况解释运行。JIT对动态控制流的处理较复杂。\n",
    "对比AOT编译：AOT编译器在程序运行前就完成了编译，它无法获得运行时信息（热点/实际类型分布/分支跳转的倾向），只能依靠程序员提供的静态信息来优化。\n",
    "同时AOT编译对程序中的动态行为没有办法，比如不同的input data若产生了不同的变量类型，AOT很难对此作编译优化，无法动态地重新编译。"
   ]
  },
  {
   "cell_type": "code",
   "execution_count": null,
   "id": "dbeb01b7",
   "metadata": {
    "vscode": {
     "languageId": "plaintext"
    }
   },
   "outputs": [],
   "source": [
    "6. 技术细节\n",
    "JIT编译的资源开销更大，因为JIT编译器要做的事情很多，基本可分为 <观察-优化-验证-适应>\n",
    "\n",
    "分层编译 (Tiered Compilation) 策略：\n",
    "\n",
    "层级 0 (解释器): 初始执行，收集基本剖析数据。<观察>\n",
    "层级 1 (基线编译器): 快速编译，无太多优化，但比解释器快。继续收集更详细的剖析数据。<观察>\n",
    "层级 2+ (优化编译器): 对热点代码进行深度优化，利用之前收集的所有运行时信息。这会花费更多时间，但能生成非常高效的机器码。<优化>\n",
    "    优化时，使用 守护（Guards）机制，确保优化的方向在实际下次运行时正确。<验证>\n",
    "    如果优化方向不正确，回退到解释模式或重新进行编译，这次会根据新的信息进行更保守或不同的优化。<适应>\n",
    "\n",
    "\n",
    "\n",
    "通过一系列巧妙的运行时分析 (Runtime Analysis) 和推测性优化 (Speculative Optimization) 技术实现\n",
    "\n",
    "JIT 编译器并不是在代码完全运行之前“看穿”一切，而是通过以下几种关键机制来收集信息并做出优化决策：\n",
    "\n",
    "（1）. 动态分析与性能剖析 (Dynamic Profiling / Performance Monitoring) <观察>\n",
    "这是 JIT 获得运行时信息的核心。JIT 编译器在程序运行的早期阶段（通常是解释模式或快速编译模式下）会持续地监控程序的执行行为：\n",
    "\n",
    "热点代码识别 (Hot Spot Detection): JIT 会跟踪每个函数、方法或代码块被调用的次数以及在其中花费的时间。\n",
    "如果一个代码块被频繁执行（例如，循环体内部的代码，或者经常被调用的核心函数），它就被标记为“热点”。JIT 编译器会优先对这些热点代码进行更深入的优化。\n",
    "\n",
    "例子： JVM (Java Virtual Machine) 和 JavaScript V8 引擎都有类似的机制，它们会维护一个计数器，当函数调用次数或循环迭代次数达到某个阈值时，就会触发 JIT 编译。\n",
    "\n",
    "\n",
    "类型反馈 (Type Feedback): 在动态类型语言中（如 Python, JavaScript），一个变量在源代码中没有固定的类型声明。JIT 编译器会观察在运行时变量实际被赋予了哪些类型。\n",
    "\n",
    "例子： 如果一个函数 def add(a, b): return a + b 大部分时间都是用整数调用，JIT 就会推测 a 和 b总是整数，并生成专门用于整数加法的机器码。\n",
    "\n",
    "\n",
    "分支预测 (Branch Prediction): JIT 会统计 if/else 语句中哪个分支更常被执行。这有助于优化条件跳转指令的布局，减少 CPU 的分支预测失误。\n",
    "\n",
    "\n",
    "调用站点内联 (Call Site Inlining): JIT 会跟踪函数调用，并根据被调用函数的实际执行路径和频率，决定是否将函数体直接嵌入到调用点，从而消除函数调用开销。\n",
    "\n",
    "\n",
    "（2）. 推测性优化 (Speculative Optimization) <优化>\n",
    "基于运行时收集到的信息，JIT 编译器会做出一些“猜测”或“假设”，并基于这些假设进行优化。\n",
    "\n",
    "乐观假设： JIT 可能会乐观地假设某种情况会持续下去（例如，某个变量的类型不会改变，某个分支会一直被执行）。\n",
    "\n",
    "守护(Guards)机制：为了保证这种推测的正确性，JIT 编译的代码会包含一些守护(Guards)或运行时检查(Runtime Checks)。这些检查会在每次执行编译后的代码时验证这些假设是否仍然成立。<验证>\n",
    "    如果假设成立： 代码继续高速执行。\n",
    "    如果假设不成立（守护失败）： 程序会“去优化”（de-optimize），回退到解释模式或重新进行编译，这次会根据新的信息进行更保守或不同的优化。<适应>\n",
    "\n",
    "\n",
    "（3）. 中间表示 (Intermediate Representation, IR)  <优化>\n",
    "在编译过程中，JIT 编译器会将代码（通常是字节码）转换成一种内部的中间表示（例如，控制流图、IR 树等）。这个 IR 允许编译器在生成机器码之前，对代码进行各种高级优化。\n",
    "\n",
    "部分AOT编译：全局数据流分析： 即使是 JIT 编译器，也能在它决定编译的某个代码块内部进行全局AOT的数据流分析，识别出冗余计算、无效代码等。\n",
    "比如 图优化 (Graph Optimization): \n",
    "    在 PyTorch 的 torch.compile 中，TorchDynamo 将 PyTorch 操作捕获成 FX Graph。这个图就是一种高级的 IR。编译器可以对整个图进行分析，识别跨越多个 PyTorch 操作的优化机会，例如：\n",
    "        算子融合 (Operator Fusion): 将一系列紧密相关的 PyTorch 操作（如卷积、偏置加法、ReLU 激活）合并成一个或几个更高效的底层核函数。这需要 JIT 看到这些操作在图中的连续性。\n",
    "        公共子表达式消除 (Common Subexpression Elimination): 识别并消除重复计算的表达式。"
   ]
  },
  {
   "cell_type": "code",
   "execution_count": null,
   "id": "ee0185a7",
   "metadata": {
    "vscode": {
     "languageId": "plaintext"
    }
   },
   "outputs": [],
   "source": [
    "7. 优点和缺点\n",
    "优点：兼顾灵活性和性能，跨平台性好，运行时优化由于获得了实际运行信息，理论生成的机器码比AOT更高效；最后就是优化策略可以根据实际运行情况调整。\n",
    "缺点：预热阶段是解释执行，慢；内存和CPU开销大，因为JIT编译器自身需要占用内存和线程资源（机器码和IR等都是存在内存中的，动态分析和优化验证都需要cpu线程资源）；调试难度高"
   ]
  }
 ],
 "metadata": {
  "language_info": {
   "name": "python"
  }
 },
 "nbformat": 4,
 "nbformat_minor": 5
}
