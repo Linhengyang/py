{
 "cells": [
  {
   "cell_type": "code",
   "execution_count": 1,
   "id": "f1137208",
   "metadata": {},
   "outputs": [],
   "source": [
    "from collections.abc import Iterable, Iterator"
   ]
  },
  {
   "cell_type": "markdown",
   "id": "97e26796",
   "metadata": {},
   "source": [
    "## 可迭代对象 Iterable VS 迭代器 Iterator"
   ]
  },
  {
   "cell_type": "code",
   "execution_count": 2,
   "id": "a5b2fafa",
   "metadata": {},
   "outputs": [
    {
     "name": "stdout",
     "output_type": "stream",
     "text": [
      "True\n",
      "False\n"
     ]
    }
   ],
   "source": [
    "class Color(object):\n",
    "\n",
    "    def __init__(self):\n",
    "        self.colors = ['red', 'white', 'black', 'green']\n",
    "\n",
    "    def __iter__(self):\n",
    "        pass\n",
    "\n",
    "Color_obj_1 = Color()\n",
    "print(isinstance(Color_obj_1, Iterable)) # 验证是否 可迭代对象\n",
    "print(isinstance(Color_obj_1, Iterator)) # 验证是否 迭代器"
   ]
  },
  {
   "cell_type": "markdown",
   "id": "a71ca413",
   "metadata": {},
   "source": [
    "1. 定义了__iter__方法的类, 是**可迭代对象 Iterable**。"
   ]
  },
  {
   "cell_type": "code",
   "execution_count": 3,
   "id": "02a24508",
   "metadata": {},
   "outputs": [
    {
     "name": "stdout",
     "output_type": "stream",
     "text": [
      "True\n",
      "True\n"
     ]
    }
   ],
   "source": [
    "class Color(object):\n",
    "\n",
    "    def __init__(self):\n",
    "        self.colors = ['red', 'white', 'black', 'green']\n",
    "\n",
    "    # 仅仅是实现了__iter__ 方法,在方法内部什么都不做\n",
    "    def __iter__(self):\n",
    "        pass\n",
    "\n",
    "    def __next__(self):\n",
    "        pass\n",
    "\n",
    "Color_obj_2 = Color()\n",
    "print(isinstance(Color_obj_2, Iterable)) # 验证是否 可迭代对象\n",
    "print(isinstance(Color_obj_2, Iterator)) # 验证是否 迭代器"
   ]
  },
  {
   "cell_type": "markdown",
   "id": "47cb371e",
   "metadata": {},
   "source": [
    "2. 定义了__iter__方法 和__next__方法的类, 是**迭代器 Iterator**。"
   ]
  },
  {
   "cell_type": "markdown",
   "id": "75e54622",
   "metadata": {},
   "source": [
    "3. 不管是 可迭代对象还是迭代器，它们的__iter__方法通常都需要返回一个**迭代器 Iterator**。  \n",
    "所以一个**迭代器 Iterator**的__iter__方法可以返回自身self。"
   ]
  },
  {
   "cell_type": "markdown",
   "id": "7059118f",
   "metadata": {},
   "source": [
    "iter 内置函数的作用 : iterable ----> iterator, 给一个 可迭代对象, 调用该 可迭代对象的 __iter__()方法, 返回一个迭代器"
   ]
  },
  {
   "cell_type": "markdown",
   "id": "f5f81c4e",
   "metadata": {},
   "source": [
    "next 内置函数的作用 : iterator ----> element in order/stopIteration, 给一个 迭代器, 返回其中的下一个元素/StopIteration"
   ]
  },
  {
   "cell_type": "markdown",
   "id": "acb3ae19",
   "metadata": {},
   "source": [
    "总结1：在代码逻辑上，先有 可迭代对象 Iterable, 再有 迭代器 Iterator。因为 可迭代对象 Iterable 只需要实现__iter__方法，而 迭代器 Iterator 需要同时实现__iter__方法和__next__方法。"
   ]
  },
  {
   "cell_type": "markdown",
   "id": "fd494738",
   "metadata": {},
   "source": [
    "## 迭代器内的__iter__方法是否返回self, 决定了其singularity性质"
   ]
  },
  {
   "cell_type": "code",
   "execution_count": 7,
   "id": "bebee377",
   "metadata": {},
   "outputs": [
    {
     "name": "stdout",
     "output_type": "stream",
     "text": [
      "True\n",
      "True\n",
      "red\n",
      "white\n"
     ]
    }
   ],
   "source": [
    "class Color_sing(object):\n",
    "\n",
    "    def __init__(self):\n",
    "        self.index = -1\n",
    "        self.colors = ['red', 'white', 'black', 'green']\n",
    "\n",
    "    def __iter__(self):\n",
    "        return self\n",
    "\n",
    "    def __next__(self):\n",
    "        # 每调用一次 __next__()方法, self.index + 1\n",
    "        self.index += 1\n",
    "        # 界定遍历结束的边界\n",
    "        if self.index >= len(self.colors):\n",
    "            raise StopIteration\n",
    "        # 返回每次遍历应该返回的元素\n",
    "        return self.colors[self.index]\n",
    "\n",
    "color = Color_sing() # Color_sing类，是个迭代器，也是个可迭代对象\n",
    "color_iter1 = iter(color) # 调用 __iter__ 方法，返回 迭代器1\n",
    "color_iter2 = iter(color) # 调用 __iter__ 方法，返回 迭代器2\n",
    "print(color_iter1 is color_iter2)\n",
    "print(color_iter1 is color)\n",
    "print(next(color_iter1))\n",
    "print(next(color_iter2))"
   ]
  },
  {
   "cell_type": "markdown",
   "id": "c2b6eeb8",
   "metadata": {},
   "source": [
    "1. 具备singularity性质的迭代器 Iterator, 在内存中只有一个实例（即使有多个变量名，都引用到这同一个实例）。__next__调用实际都是调用同一个迭代器实例。  \n",
    "例子有 file Iterator: 在同一时间环境，只希望这个file读取一遍"
   ]
  },
  {
   "cell_type": "code",
   "execution_count": null,
   "id": "95a525f0",
   "metadata": {},
   "outputs": [
    {
     "name": "stdout",
     "output_type": "stream",
     "text": [
      "False\n",
      "False\n",
      "<class '__main__.ListIterator'> <class '__main__.ListIterator'> <class '__main__.Color_nosing'>\n",
      "red\n",
      "red\n",
      "None\n"
     ]
    }
   ],
   "source": [
    "class ListIterator:\n",
    "    def __init__(self, lst):\n",
    "        self.lst = lst\n",
    "        self.index = -1\n",
    "    \n",
    "    def __iter__(self):\n",
    "        return self\n",
    "    \n",
    "    def __next__(self):\n",
    "        self.index += 1\n",
    "        if self.index >= len(self.lst):\n",
    "            raise StopIteration\n",
    "        return self.lst[self.index]\n",
    "\n",
    "\n",
    "class Color_nosing(object):\n",
    "\n",
    "    def __init__(self):\n",
    "        self.colors = ['red', 'white', 'black', 'green']\n",
    "\n",
    "    def __iter__(self):\n",
    "        return ListIterator(self.colors)\n",
    "\n",
    "    def __next__(self):\n",
    "        pass\n",
    "\n",
    "color = Color_nosing() # Color_sing类，是个迭代器，也是个可迭代对象\n",
    "color_iter1 = iter(color) # 调用 Color_nosing 类 的 __iter__ 方法，返回 迭代器1\n",
    "color_iter2 = iter(color) # 调用 Color_nosing 类 的 __iter__ 方法，返回 迭代器2\n",
    "print(color_iter1 is color_iter2)\n",
    "print(color_iter1 is color)\n",
    "print(type(color_iter1), type(color_iter2), type(color))\n",
    "print(next(color_iter1)) # 调用的是 ListIterator 类 的 __next__方法\n",
    "print(next(color_iter2)) # 调用的是 ListIterator 类 的 __next__方法\n",
    "print(next(color)) # 调用的是 Color_nosing 类 的 __next__方法"
   ]
  },
  {
   "cell_type": "markdown",
   "id": "19589b42",
   "metadata": {},
   "source": [
    "2. 具备nonsingularity性质的迭代器 Iterator, 依靠__iter__方法多次调用，在内存中生成多个非自身的迭代器实例。  \n",
    "例子有 List Iterator: 同一个 Python List Object，希望在同一时间环境，这个list可以多次读取"
   ]
  },
  {
   "cell_type": "markdown",
   "id": "a90855e3",
   "metadata": {},
   "source": [
    "总结2：在实用业务抽象里，先实现具备singularity性质的迭代器（原子迭代器），这个原子迭代器的__iter__方法返回自身，从而保证它的原子性质：调用__iter__创造的迭代器只有它自己。迭代器同时也是可迭代对象，故若需要一个原子的可迭代对象，该原子迭代器就满足条件；若需要一个非原子的可迭代对象，多封装一层Iterable class即可。"
   ]
  },
  {
   "cell_type": "markdown",
   "id": "3c20971e",
   "metadata": {},
   "source": [
    "总结3：如果普遍遵循这样的开发规范，可以发现：迭代器普遍是只可遍历一遍的，而封装一遍过后的可迭代对象，普遍是可以同时多次遍历的。"
   ]
  },
  {
   "cell_type": "markdown",
   "id": "fc4fb494",
   "metadata": {},
   "source": [
    "## for 循环 工作原理\n",
    "for element_obj in Iterable 中, 首先使用 iter on Iterable 得到 Iterator, 然后使用 next on Iterator 不断得到 element,\n",
    "最后捕捉 stopIteration"
   ]
  }
 ],
 "metadata": {
  "kernelspec": {
   "display_name": "dl",
   "language": "python",
   "name": "python3"
  },
  "language_info": {
   "codemirror_mode": {
    "name": "ipython",
    "version": 3
   },
   "file_extension": ".py",
   "mimetype": "text/x-python",
   "name": "python",
   "nbconvert_exporter": "python",
   "pygments_lexer": "ipython3",
   "version": "3.12.9"
  }
 },
 "nbformat": 4,
 "nbformat_minor": 5
}
